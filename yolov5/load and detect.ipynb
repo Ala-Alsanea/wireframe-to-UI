{
 "cells": [
  {
   "cell_type": "code",
   "execution_count": 1,
   "id": "6087dede",
   "metadata": {},
   "outputs": [
    {
     "data": {
      "text/plain": [
       "PosixPath('.')"
      ]
     },
     "execution_count": 1,
     "metadata": {},
     "output_type": "execute_result"
    }
   ],
   "source": [
    "import torch\n",
    "import pandas as pd\n",
    "\n",
    "\n",
    "from models.common import DetectMultiBackend\n",
    "from utils.dataloaders import IMG_FORMATS, VID_FORMATS, LoadImages, LoadScreenshots, LoadStreams\n",
    "from utils.general import (LOGGER, Profile, check_file, check_img_size, check_imshow, check_requirements, colorstr, cv2,\n",
    "                           increment_path, non_max_suppression, print_args, scale_boxes, strip_optimizer, xyxy2xywh)\n",
    "from utils.plots import Annotator, colors, save_one_box\n",
    "from utils.torch_utils import select_device, smart_inference_mode\n",
    "\n",
    "from pathlib import Path\n",
    "import os\n",
    "import platform\n",
    "import sys\n",
    "\n",
    "import pandas as pd\n",
    "\n",
    "FILE = Path('.').resolve()\n",
    "ROOT = FILE.parents[0]  # YOLOv5 root directory\n",
    "if str(ROOT) not in sys.path:\n",
    "    sys.path.append(str(ROOT))\n",
    "\n",
    "ROOT = Path(os.path.relpath('.', Path.cwd())) \n",
    "ROOT"
   ]
  },
  {
   "cell_type": "code",
   "execution_count": 2,
   "id": "16b1449e",
   "metadata": {},
   "outputs": [],
   "source": [
    "# import sys\n",
    "# import optparse\n",
    "\n",
    "# parser = optparse.OptionParser()\n",
    "\n",
    "# parser.add_option('-p', '--path', help='Pass the path image',default = '.')\n",
    "\n",
    "# (opts, args) = parser.parse_args()  # instantiate parser\n",
    "\n",
    "# imgPath = opts.path\n",
    "\n",
    "\n",
    "# print(imgPath)"
   ]
  },
  {
   "cell_type": "code",
   "execution_count": 3,
   "id": "04355fcb",
   "metadata": {},
   "outputs": [],
   "source": [
    "# param\n",
    "weights = 'pretrain_model/yolov5x6[exp]_on_all_yolo_dataset/weights/last.pt'\n",
    "# \n",
    "data=f'{ROOT}/data/coco128.yaml'  # dataset.yaml path\n",
    "imgsz=(640, 640) # inference size (height, width)\n",
    "conf_thres=0.50  # confidence threshold\n",
    "iou_thres=0.45  # NMS IOU threshold\n",
    "max_det=1000 # maximum detections per image\n",
    "device='cpu'  # cuda device, i.e. 0 or 0,1,2,3 or cpu\n",
    "view_img=False  # show results\n",
    "save_txt=False  # save results to *.txt\n",
    "save_conf=False  # save confidences in --save-txt labels\n",
    "save_crop=False  # save cropped prediction boxes\n",
    "nosave=False  # do not save images/videos\n",
    "classes=None # filter by class: --class 0, or --class 0 2 3\n",
    "agnostic_nms=False  # class-agnostic NMS\n",
    "augment=False # augmented inference\n",
    "visualize=False # visualize features\n",
    "update=False  # update all models\n",
    "project=f'{ROOT}/runs/detect'  # save results to project/name\n",
    "name='exp',  # save results to project/name\n",
    "exist_ok=False  # existing project/name ok, do not increment\n",
    "line_thickness=3  # bounding box thickness (pixels)\n",
    "hide_labels=False  # hide labels\n",
    "hide_conf=False  # hide confidences\n",
    "half=False  # use FP16 half-precision inference\n",
    "dnn=False  # use OpenCV DNN for ONNX inference\n",
    "vid_stride=1"
   ]
  },
  {
   "cell_type": "code",
   "execution_count": 4,
   "id": "aede9244",
   "metadata": {},
   "outputs": [
    {
     "name": "stderr",
     "output_type": "stream",
     "text": [
      "Fusing layers... \n",
      "Model summary: 416 layers, 140057380 parameters, 0 gradients, 208.1 GFLOPs\n"
     ]
    }
   ],
   "source": [
    "\n",
    "model = DetectMultiBackend(weights, device=device, dnn=dnn, data=data, fp16=half)\n"
   ]
  },
  {
   "cell_type": "code",
   "execution_count": 5,
   "id": "83352cc3",
   "metadata": {},
   "outputs": [],
   "source": [
    "# model"
   ]
  },
  {
   "cell_type": "code",
   "execution_count": 6,
   "id": "14478dc4",
   "metadata": {},
   "outputs": [],
   "source": [
    "# img ='/home/uwu/Desktop/object_detection/preview/sketch_web_ui_dataset/all_yolo/images/16483b6e-47fe-4e9c-b78c-7f0ba4fef80c.png'\n",
    "\n",
    "\n",
    "img ='/home/uwu/Desktop/object_detection/preview/sketch_web_ui_dataset/new_dataset/80ce0ae6-9f89-429b-b2da-ae1b25e45acb.png'"
   ]
  },
  {
   "cell_type": "code",
   "execution_count": null,
   "id": "e5eca81f",
   "metadata": {
    "scrolled": false
   },
   "outputs": [
    {
     "name": "stderr",
     "output_type": "stream",
     "text": [
      "YOLOv5 🚀 2023-5-12 Python-3.10.10 torch-1.13.1+cu117 CPU\n",
      "\n"
     ]
    }
   ],
   "source": [
    "source = str(img)\n",
    "save_img = not nosave and not source.endswith('.txt')  # save inference images\n",
    "is_file = Path(source).suffix[1:] in (IMG_FORMATS + VID_FORMATS)\n",
    "is_url = source.lower().startswith(('rtsp://', 'rtmp://', 'http://', 'https://'))\n",
    "\n",
    "if is_url and is_file:\n",
    "    source = check_file(source)  # download\n",
    "\n",
    "# Directories\n",
    "save_dir = '.'  # make dir\n",
    "\n",
    "# Load model\n",
    "device = select_device(device)\n",
    "model = DetectMultiBackend(weights, device=device, dnn=dnn, data=data, fp16=half)\n",
    "stride, names, pt = model.stride, model.names, model.pt\n",
    "imgsz = check_img_size(imgsz, s=stride)  # check image size\n",
    "\n",
    "# Dataloader\n",
    "bs = 1 \n",
    "stride, names, pt = model.stride, model.names, model.pt\n",
    "\n",
    "\n",
    "dataset = LoadImages(source, img_size=imgsz, stride=stride, auto=pt, vid_stride=vid_stride)"
   ]
  },
  {
   "cell_type": "code",
   "execution_count": null,
   "id": "3273876c",
   "metadata": {},
   "outputs": [],
   "source": [
    "model.warmup(imgsz=(1 if pt or model.triton else bs, 3, *imgsz))  # warmup\n"
   ]
  },
  {
   "cell_type": "code",
   "execution_count": null,
   "id": "842681ff",
   "metadata": {},
   "outputs": [],
   "source": [
    "\n",
    "# preduct\n",
    "\n",
    "seen, windows, dt = 0, [], (Profile(), Profile(), Profile())\n",
    "\n",
    "for path, im, im0s, vid_cap, s in dataset:\n",
    "    with dt[0]:\n",
    "        im = torch.from_numpy(im).to(model.device)\n",
    "        im = im.half() if model.fp16 else im.float()  # uint8 to fp16/32\n",
    "        im /= 255  # 0 - 255 to 0.0 - 1.0\n",
    "        if len(im.shape) == 3:\n",
    "            im = im[None]  # expand for batch dim\n",
    "        \n",
    "    # Inference\n",
    "    with dt[1]:\n",
    "        X_test=im\n",
    "        visualize = increment_path(save_dir / Path(path).stem, mkdir=True) if visualize else False\n",
    "        pred = model(im, augment=augment, visualize=visualize)\n",
    "\n",
    "    # NMS\n",
    "    with dt[2]:\n",
    "        pred = non_max_suppression(pred, conf_thres, iou_thres, classes, agnostic_nms, max_det=max_det)\n",
    "\n",
    "        \n",
    "        \n",
    "        \n",
    "        \n",
    "#process pred to df\n",
    "det = pred[0]\n",
    "pred_df = pd.DataFrame(columns=['class','xmin','ymin','xmax','ymax','conf'])\n",
    "\n",
    "p, im0, frame = path, im0s.copy(), getattr(dataset, 'frame', 0)\n",
    "p = Path(p)  # to Path\n",
    "gn = torch.tensor(im0.shape)[[1, 0, 1, 0]]  # normalization gain whwh\n",
    "imc = im0.copy() if save_crop else im0  # for save_crop\n",
    "annotator = Annotator(im0, line_width=line_thickness, example=str(names))\n",
    "if len(det):\n",
    "    # Rescale boxes from img_size to im0 size\n",
    "    det[:, :4] = scale_boxes(im.shape[2:], det[:, :4], im0.shape).round()\n",
    "\n",
    "\n",
    "for *xyxy, conf, cls in reversed(det):   \n",
    "    xywh = (xyxy2xywh(torch.tensor(xyxy).view(1, 4)) / gn).view(-1).tolist()  # normalized xywh\n",
    "\n",
    "    # Add bbox to image\n",
    "    clsInt = int(cls)  # integer class\n",
    "    label = None if hide_labels else (names[c] if hide_conf else f'{names[clsInt]} {conf:.2f}')\n",
    "\n",
    "    annotator.box_label(xyxy, label, color=colors(clsInt, True))\n",
    "    \n",
    "    row= [\n",
    "        names[clsInt],\n",
    "        int(xyxy[0]),\n",
    "        int(xyxy[1]),\n",
    "        int(xyxy[2]),\n",
    "        int(xyxy[3]),\n",
    "        float(f'{conf:.2f}')\n",
    "    ]\n",
    "    pred_df.loc[len(pred_df)+1] = row \n",
    "#     print(\"xywh:\",xywh)\n",
    "#     print(\"xyxy:\",int(xyxy[0]))\n",
    "#     print(\"xyxy:\",xyxy)\n",
    "#     print('cls:',cls)\n",
    "#     print('conf:',conf)\n",
    "#     print('label:',label) \n",
    "#     print('row:',row) \n",
    "#     print('\\n')\n",
    "\n",
    "    \n",
    "\n",
    "    \n",
    "pred_img = annotator.result()\n",
    "\n",
    "cv2.imwrite('../predicted/1.jpg', pred_img)\n",
    "\n",
    "# cv2.imshow('result', pred_img)\n",
    "# cv2.waitKey(0)\n",
    "# cv2.destroyAllWindows()\n",
    "# print(pred_img)\n",
    "# print(im0)\n"
   ]
  },
  {
   "cell_type": "code",
   "execution_count": null,
   "id": "b11f98ca",
   "metadata": {
    "scrolled": true
   },
   "outputs": [],
   "source": [
    "pred_df"
   ]
  },
  {
   "cell_type": "code",
   "execution_count": null,
   "id": "f31affd1",
   "metadata": {},
   "outputs": [],
   "source": [
    "torch.onnx.export(model, X_test, 'iris.onnx', input_names=[\"features\"], output_names=[\"logits\"])\n",
    "# from torchsummary import summary\n",
    "# from torchviz import make_dot\n",
    "\n",
    "\n",
    "\n",
    "# summary(model, (3, 640, 640))\n",
    "# make_dot(pred[0], params=dict(model.named_parameters()))"
   ]
  },
  {
   "cell_type": "code",
   "execution_count": null,
   "id": "ef91ae1f",
   "metadata": {},
   "outputs": [],
   "source": [
    "pred_df.to_csv('../predicted/DSL.csv')\n",
    "pred_df=pred_df.sort_values(by=['xmin'], ascending=[True])\n",
    "pred_df=pred_df.sort_values(by=['ymin'], ascending=[True])\n",
    "column=pred_df['class']\n",
    "my_list = pred_df[\"class\"].tolist()\n",
    "with open(r\"../predicted/DSL.txt\",\"w\") as File_object:\n",
    "    # File_object.write(\"{\\n\")\n",
    "    for item in my_list:\n",
    "        item +=  ','+'\\n' \n",
    "        File_object.write(item)\n",
    "        \n",
    "    # File_object.write(\"}\")\n",
    "        \n",
    "        \n",
    "File_object.close()"
   ]
  },
  {
   "cell_type": "code",
   "execution_count": null,
   "id": "14d51f92",
   "metadata": {},
   "outputs": [],
   "source": [
    "os.system('cd ../compiler/compiler_pix2code/ && python3 web-compiler.py ../../predicted/DSL.txt ../../predicted/')"
   ]
  },
  {
   "cell_type": "code",
   "execution_count": null,
   "id": "14a6d946",
   "metadata": {},
   "outputs": [],
   "source": []
  }
 ],
 "metadata": {
  "kernelspec": {
   "display_name": "Python 3 (ipykernel)",
   "language": "python",
   "name": "python3"
  },
  "language_info": {
   "codemirror_mode": {
    "name": "ipython",
    "version": 3
   },
   "file_extension": ".py",
   "mimetype": "text/x-python",
   "name": "python",
   "nbconvert_exporter": "python",
   "pygments_lexer": "ipython3",
   "version": "3.10.10"
  }
 },
 "nbformat": 4,
 "nbformat_minor": 5
}
